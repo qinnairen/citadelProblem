{
  "nbformat": 4,
  "nbformat_minor": 0,
  "metadata": {
    "colab": {
      "provenance": []
    },
    "kernelspec": {
      "name": "python3",
      "display_name": "Python 3"
    },
    "language_info": {
      "name": "python"
    }
  },
  "cells": [
    {
      "cell_type": "code",
      "source": [
        "\n",
        "import numpy as np\n",
        "from scipy.optimize import linprog\n",
        "from sympy import Matrix\n",
        "from scipy.linalg import null_space\n",
        "\n",
        "A = np.array([\n",
        "    [1, 1, 1, 1, 0, 0, 0, 0, 0, 0, 0, 0, 0, 0, 0, 0],\n",
        "    [0, 0, 0, 0, 0, 0, 0, 0, 1, 1, 1, 1, 0, 0, 0, 0],\n",
        "    [0, 0, 0, 0, 1, 1, 1, 1, 0, 0, 0, 0, 0, 0, 0, 0],\n",
        "    [0, 0, 0, 0, 0, 0, 0, 0, 0, 0, 0, 0, 1, 1, 1, 1],\n",
        "    [1, 0, 1, 0, 1, 0, 1, 0, 0, 0, 0, 0, 0, 0, 0, 0],\n",
        "    [0, 0, 0, 0, 0, 0, 0, 0, 1, 0, 1, 0, 1, 0, 1, 0],\n",
        "    [0, 1, 0, 1, 0, 1, 0, 1, 0, 0, 0, 0, 0, 0, 0, 0],\n",
        "    [0, 0, 0, 0, 0, 0, 0, 0, 0, 1, 0, 1, 0, 1, 0, 1],\n",
        "    [1, 1, 0, 0, 0, 0, 0, 0, 1, 1, 0, 0, 0, 0, 0, 0],\n",
        "    [0, 0, 1, 1, 0, 0, 0, 0, 0, 0, 1, 1, 0, 0, 0, 0],\n",
        "    [0, 0, 0, 0, 1, 1, 0, 0, 0, 0, 0, 0, 1, 1, 0, 0],\n",
        "    [0, 0, 0, 0, 0, 0, 1, 1, 0, 0, 0, 0, 0, 0, 1, 1],\n",
        "    [1, 0, 0, 0, 1, 0, 0, 0, 1, 0, 0, 0, 1, 0, 0, 0],\n",
        "    [0, 0, 1, 0, 0, 0, 1, 0, 0, 0, 1, 0, 0, 0, 1, 0],\n",
        "    [0, 1, 0, 0, 0, 1, 0, 0, 0, 1, 0, 0, 0, 1, 0, 0],\n",
        "    [0, 0, 0, 1, 0, 0, 0, 1, 0, 0, 0, 1, 0, 0, 0, 1]\n",
        "])\n",
        "\n",
        "print(np.linalg.matrix_rank(A))"
      ],
      "metadata": {
        "colab": {
          "base_uri": "https://localhost:8080/"
        },
        "id": "P6_NC71xzVyS",
        "outputId": "01773b7e-8273-454e-e0bb-2e05595cb5ea"
      },
      "execution_count": 34,
      "outputs": [
        {
          "output_type": "stream",
          "name": "stdout",
          "text": [
            "9\n"
          ]
        }
      ]
    },
    {
      "cell_type": "code",
      "source": [
        "# a = np.array([\n",
        "#     [1/2, 0, 0, 16/32],\n",
        "#     [3/8, 4/32, 4/32, 6/16],\n",
        "#     [3/8, 1/8, 4/32, 12/32],\n",
        "#     [1/8, 12/32, 12/32, 1/8]\n",
        "# ])\n",
        "\n",
        "# a = np.array([\n",
        "#     [0.75, 0, 0, 0.25],\n",
        "#     [0.75, 0, 0, 0.25],\n",
        "#     [0.75, 0, 0, 0.25],\n",
        "#     [0.75, 0, 0, 0.25]\n",
        "# ])\n",
        "\n",
        "\n",
        "# a = np.array([\n",
        "#     [5/16, 3/16, 1/32, 15/32],\n",
        "#     [1/8, 11/32, 7/32, 5/16],\n",
        "#     [3/8, 1/8, 9/32, 7/32],\n",
        "#     [1/4, 7/32, 13/32, 1/8]\n",
        "# ])\n",
        "\n",
        "#in the above case need to check rounding off of values\n",
        "\n",
        "# a = np.array([\n",
        "#     [3/8, 3/8, 1/4, 0],\n",
        "#     [3/8, 3/8, 1/4, 0],\n",
        "#     [3/8, 3/8, 1/4, 0],\n",
        "#     [5/8, 1/8, 0, 1/4]\n",
        "# ])\n",
        "\n",
        "# just remove the miniscule errors\n",
        "\n",
        "\n",
        "a = np.array([\n",
        "    [5/8, 2/8, 1/8, 0],\n",
        "    [2/8, 2/8, 2/4, 0],\n",
        "    [3/4, 1/8, 1/8, 0],\n",
        "    [3/8, 1/8, 1/2, 0]\n",
        "])\n",
        "\n",
        "\n",
        "# a = np.array([\n",
        "#     [4/8, 2/8, 0, 1/4],\n",
        "#     [4/8, 0, 1/4, 1/4],\n",
        "#     [2/8, 4/8, 1/4, 0],\n",
        "#     [2/8, 2/8, 0.25, 1/4]\n",
        "# ])"
      ],
      "metadata": {
        "id": "cwgF76rlzX7z"
      },
      "execution_count": 35,
      "outputs": []
    },
    {
      "cell_type": "code",
      "source": [
        "# Consider whether CHSH holds\n",
        "\n",
        "def chsh(matrix):\n",
        "    return abs((matrix[0][0] + matrix[0][3]) + (matrix[1][0] + matrix[1][3]) + (matrix[2][0] + matrix[2][3]) + (matrix[3][1] + matrix[3][2]) - (matrix[0][1] + matrix[0][2] + matrix[1][1] + matrix[1][2] + matrix[2][1] + matrix[2][2] + matrix[3][0] + matrix[3][3]))\n",
        "chsh(a)\n"
      ],
      "metadata": {
        "colab": {
          "base_uri": "https://localhost:8080/"
        },
        "id": "86SUBUKXcmFp",
        "outputId": "ea02adca-25b4-494e-ff21-fb9cd441fa77"
      },
      "execution_count": 36,
      "outputs": [
        {
          "output_type": "execute_result",
          "data": {
            "text/plain": [
              "0.5"
            ]
          },
          "metadata": {},
          "execution_count": 36
        }
      ]
    },
    {
      "cell_type": "code",
      "source": [
        "def wellBehaved(matrix):\n",
        "  flag = True\n",
        "  # check for a1\n",
        "  if matrix[0][0] + matrix[0][2] != matrix[1][0] + matrix[1][2]:\n",
        "    flag = False\n",
        "  # check for a2\n",
        "  if matrix[2][0] + matrix[2][2] != matrix[2][0] + matrix[2][2]:\n",
        "    flag = False\n",
        "  # check for b1\n",
        "  if matrix[0][0] + matrix[0][1] != matrix[2][0] + matrix[2][1]:\n",
        "    flag = False\n",
        "  # check for b2\n",
        "  if matrix[1][0] + matrix[1][1] != matrix[3][0] + matrix[3][1]:\n",
        "    flag = False\n",
        "  return flag"
      ],
      "metadata": {
        "id": "Os9IysF0feVR"
      },
      "execution_count": 37,
      "outputs": []
    },
    {
      "cell_type": "code",
      "source": [
        "b = np.array([\n",
        "    a[0][0],\n",
        "    a[0][1],\n",
        "    a[0][2],\n",
        "    a[0][3],\n",
        "    a[1][0],\n",
        "    a[1][1],\n",
        "    a[1][2],\n",
        "    a[1][3],\n",
        "    a[2][0],\n",
        "    a[2][1],\n",
        "    a[2][2],\n",
        "    a[2][3],\n",
        "    a[3][0],\n",
        "    a[3][1],\n",
        "    a[3][2],\n",
        "    a[3][3]\n",
        "])\n",
        "\n",
        "import numpy as np\n",
        "from scipy.optimize import nnls\n",
        "\n",
        "if (chsh(a)>2) :\n",
        "  print(\"The CHSH inequality is violated and the system is not classically deterministic and a global distribution cannot be found\")\n",
        "  # check if it was well behaved\n",
        "  print(\"It is \", {wellBehaved(a)}, \"that the system is well behaved\")\n",
        "else :\n",
        "  print(\"The CHSH inequality is satisfied and the system is classically deterministic and a global distribution is possible though not certain\")\n",
        "def solve_positive_constrained(A, B):\n",
        "    # Ensure A and B are numpy arrays\n",
        "  A = np.array(A)\n",
        "  B = np.array(B)\n",
        "\n",
        "    # Reshape B to a column vector if it's 1D\n",
        "  if B.ndim == 1:\n",
        "      B = B.reshape(-1, 1)\n",
        "\n",
        "    # Solve using non-negative least squares\n",
        "  x, residuals = nnls(A, B.flatten(), maxiter = 100)\n",
        "\n",
        "  return x, residuals\n",
        "\n",
        "\n",
        "B = b\n",
        "\n",
        "x, residuals = solve_positive_constrained(A, B)\n",
        "\n",
        "print(\"Solution x:\", x)\n",
        "print(\"Residuals:\", residuals)\n",
        "print(\"Sum of Probabilities : \", np.sum(x))\n",
        "if (wellBehaved(a) and chsh(a)<=2) :\n",
        "  print(\"This is a valid global probability distribution\")\n",
        "else :\n",
        "  print(\"This is not a valid global probability distribution\")\n",
        "\n",
        "\n"
      ],
      "metadata": {
        "colab": {
          "base_uri": "https://localhost:8080/"
        },
        "id": "7XqNMcIrhAg4",
        "outputId": "49af1b37-1abe-481e-9ef4-b5ef4afe94aa"
      },
      "execution_count": 38,
      "outputs": [
        {
          "output_type": "stream",
          "name": "stdout",
          "text": [
            "The CHSH inequality is satisfied and the system is classically deterministic and a global distribution is possible though not certain\n",
            "Solution x: [0.00000000e+00 5.00000000e-01 1.25000000e-01 0.00000000e+00\n",
            " 1.25000000e-01 0.00000000e+00 1.73400102e-17 4.24901837e-20\n",
            " 2.50000000e-01 2.84951985e-19 2.89006648e-17 0.00000000e+00\n",
            " 0.00000000e+00 0.00000000e+00 0.00000000e+00 0.00000000e+00]\n",
            "Residuals: 5.29423228635707e-17\n",
            "Sum of Probabilities :  1.0\n",
            "This is a valid global probability distribution\n"
          ]
        }
      ]
    },
    {
      "cell_type": "code",
      "source": [
        "# This is the dual of the optimal solution ; if all elements of the dual vector are less than equal to 0 , then no more improvements can be made to the objective function and we can say that\n",
        "# we have reached the optimal solution  ; we can ignore the very small values which can be treated as equal to 0\n",
        "w = A.T@(b - A@x)"
      ],
      "metadata": {
        "id": "qh-XC6bpDg9-"
      },
      "execution_count": 39,
      "outputs": []
    },
    {
      "cell_type": "code",
      "source": [
        "#Checking for complementary slackness\n",
        "# If it turns out that the element wise product is 0 , then complementary slackness is satisfied and we have achieved an optimal solution\n",
        "t = np.multiply(x,w)\n",
        "t[np.where(abs(t) <=1e-10)] = 0\n",
        "t\n"
      ],
      "metadata": {
        "colab": {
          "base_uri": "https://localhost:8080/"
        },
        "id": "DXuxjpZUPW9w",
        "outputId": "1cccaa77-d561-4c32-d3ea-33269c105262"
      },
      "execution_count": 40,
      "outputs": [
        {
          "output_type": "execute_result",
          "data": {
            "text/plain": [
              "array([0., 0., 0., 0., 0., 0., 0., 0., 0., 0., 0., 0., 0., 0., 0., 0.])"
            ]
          },
          "metadata": {},
          "execution_count": 40
        }
      ]
    }
  ]
}